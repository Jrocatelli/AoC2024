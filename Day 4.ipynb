{
 "cells": [
  {
   "cell_type": "markdown",
   "id": "282544b4",
   "metadata": {},
   "source": [
    "# Day 4: Ceres Search\n",
    "\n",
    "## Part I\n",
    "\n",
    "\"Looks like the Chief's not here. Next!\" One of The Historians pulls out a device and pushes the only button on it. After a brief flash, you recognize the interior of the Ceres monitoring station!\n",
    "\n",
    "As the search for the Chief continues, a small Elf who lives on the station tugs on your shirt; she'd like to know if you could help her with her word search (your puzzle input). She only has to find one word: XMAS.\n",
    "\n",
    "This word search allows words to be horizontal, vertical, diagonal, written backwards, or even overlapping other words. It's a little unusual, though, as you don't merely need to find one instance of XMAS - you need to find all of them. Here are a few ways XMAS might appear, where irrelevant characters have been replaced with .:\n",
    "\n",
    "\n",
    "| _ | _ | _ | _ | _ | _ |\n",
    "|---|---|---|---|---|---|\n",
    "| . | . | X | . | . | . |\n",
    "| . | S | A | M | X | . |\n",
    "| . | A | . | . | A | . |\n",
    "| X | M | A | S | . | S |\n",
    "| . | X | . | . | . | . |\n",
    "\n",
    "The actual word search will be full of letters instead. Take a look at the little Elf's word search. How many times does XMAS appear?"
   ]
  },
  {
   "cell_type": "code",
   "execution_count": 2,
   "id": "8f87d7fc",
   "metadata": {},
   "outputs": [],
   "source": [
    "import numpy as np"
   ]
  },
  {
   "cell_type": "code",
   "execution_count": 63,
   "id": "25402c26",
   "metadata": {},
   "outputs": [
    {
     "name": "stdout",
     "output_type": "stream",
     "text": [
      "[['M' 'M' 'A' ... 'M' 'X' 'M']\n",
      " ['A' 'S' 'A' ... 'S' 'A' 'M']\n",
      " ['M' 'S' 'A' ... 'S' 'X' 'S']\n",
      " ...\n",
      " ['S' 'S' 'M' ... 'M' 'A' 'M']\n",
      " ['M' 'A' 'A' ... 'M' 'A' 'S']\n",
      " ['S' 'S' 'M' ... 'X' 'M' 'M']]\n"
     ]
    }
   ],
   "source": [
    "wordsearch = []\n",
    "\n",
    "with open('input_day4.txt', 'r') as file:\n",
    "    for line in file:\n",
    "        line = line.strip()\n",
    "        char_array = np.char.asarray(list(line))\n",
    "        wordsearch.append(char_array)\n",
    "\n",
    "wordsearch_matrix = np.vstack(wordsearch)\n",
    "\n",
    "print(wordsearch_matrix)"
   ]
  },
  {
   "cell_type": "code",
   "execution_count": 75,
   "id": "a3ece811",
   "metadata": {},
   "outputs": [],
   "source": [
    "def search_xmas(df):\n",
    "    counter = 0\n",
    "    rows, cols = len(df), len(df[0])\n",
    "\n",
    "    for i in range(rows):\n",
    "        for j in range(cols):\n",
    "            if df[i][j] == 'X':\n",
    "                # Check right\n",
    "                if j+3 < cols and df[i][j+1]+df[i][j+2]+df[i][j+3] == 'MAS':\n",
    "                    counter += 1\n",
    "                \n",
    "                # Check left\n",
    "                if j-3 >= 0 and df[i][j-3]+df[i][j-2]+df[i][j-1] == 'SAM':\n",
    "                    counter += 1\n",
    "                \n",
    "                # Check down\n",
    "                if i+3 < rows and df[i+1][j]+df[i+2][j]+df[i+3][j] == 'MAS':\n",
    "                    counter += 1\n",
    "                \n",
    "                # Check up\n",
    "                if i-3 >= 0 and df[i-3][j]+df[i-2][j]+df[i-1][j] == 'SAM':\n",
    "                    counter += 1\n",
    "                \n",
    "                # Check diagonal down-right\n",
    "                if i+3 < rows and j+3 < cols and df[i+1][j+1] == 'M' and df[i+2][j+2] == 'A' and df[i+3][j+3] == 'S':\n",
    "                    counter += 1\n",
    "                \n",
    "                # Check diagonal up-left\n",
    "                if i-3 >= 0 and j-3 >= 0 and df[i-1][j-1] == 'M' and df[i-2][j-2] == 'A' and df[i-3][j-3] == 'S':\n",
    "                    counter += 1\n",
    "\n",
    "                # Check diagonal up-right\n",
    "                if i-3 >= 0 and j+3 < cols and df[i-1][j+1] == 'M' and df[i-2][j+2] == 'A' and df[i-3][j+3] == 'S':\n",
    "                    counter += 1\n",
    "\n",
    "                # Check diagonal down-left\n",
    "                if i+3 < rows and j-3 >= 0 and df[i+1][j-1] == 'M' and df[i+2][j-2] == 'A' and df[i+3][j-3] == 'S':\n",
    "                    counter += 1\n",
    "                    \n",
    "    return counter"
   ]
  },
  {
   "cell_type": "code",
   "execution_count": 77,
   "id": "82a6dd45",
   "metadata": {},
   "outputs": [
    {
     "data": {
      "text/plain": [
       "2517"
      ]
     },
     "execution_count": 77,
     "metadata": {},
     "output_type": "execute_result"
    }
   ],
   "source": [
    "search_xmas(wordsearch_matrix)"
   ]
  },
  {
   "cell_type": "markdown",
   "id": "e6244dc1",
   "metadata": {},
   "source": [
    "## Part II\n",
    "\n",
    "The Elf looks quizzically at you. Did you misunderstand the assignment?\n",
    "\n",
    "Looking for the instructions, you flip over the word search to find that this isn't actually an XMAS puzzle; it's an X-MAS puzzle in which you're supposed to find two MAS in the shape of an X. One way to achieve that is like this:\n",
    "\n",
    "| _ | _ | _ |\n",
    "|---|---|---|\n",
    "| M | . | S |\n",
    "| . | A | . |\n",
    "| M | . | S |\n",
    "\n",
    "\n",
    "Irrelevant characters have again been replaced with . in the above diagram. Within the X, each MAS can be written forwards or backwards.\n",
    "\n",
    "Flip the word search from the instructions back over to the word search side and try again. How many times does an X-MAS appear?"
   ]
  },
  {
   "cell_type": "code",
   "execution_count": 124,
   "id": "61fbd44b",
   "metadata": {},
   "outputs": [],
   "source": [
    "def search_x_mas(df):\n",
    "    counter = 0\n",
    "    rows, cols = len(df), len(df[0])\n",
    "\n",
    "    for i in range(rows):\n",
    "        for j in range(cols):\n",
    "                         \n",
    "           # Check diagonal down-right\n",
    "           if i+2 < rows and j+2 < cols and ((df[i][j] == 'M' and df[i+1][j+1] == 'A' and df[i+2][j+2] == 'S') or (\n",
    "               df[i][j] == 'S' and df[i+1][j+1] == 'A' and df[i+2][j+2] == 'M')):\n",
    "                    \n",
    "                if (df[i][j+2] == 'M' and df[i+1][j+1] == 'A' and df[i+2][j] == 'S') or (\n",
    "                   df[i][j+2] == 'S' and df[i+1][j+1] == 'A' and df[i+2][j] == 'M'):\n",
    "                    \n",
    "                    counter += 1\n",
    "                    \n",
    "    return counter"
   ]
  },
  {
   "cell_type": "code",
   "execution_count": 125,
   "id": "a6a35165",
   "metadata": {},
   "outputs": [
    {
     "data": {
      "text/plain": [
       "1960"
      ]
     },
     "execution_count": 125,
     "metadata": {},
     "output_type": "execute_result"
    }
   ],
   "source": [
    "search_x_mas(wordsearch_matrix)"
   ]
  }
 ],
 "metadata": {
  "kernelspec": {
   "display_name": "Python 3 (ipykernel)",
   "language": "python",
   "name": "python3"
  },
  "language_info": {
   "codemirror_mode": {
    "name": "ipython",
    "version": 3
   },
   "file_extension": ".py",
   "mimetype": "text/x-python",
   "name": "python",
   "nbconvert_exporter": "python",
   "pygments_lexer": "ipython3",
   "version": "3.9.13"
  }
 },
 "nbformat": 4,
 "nbformat_minor": 5
}
