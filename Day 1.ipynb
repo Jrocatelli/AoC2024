{
 "cells": [
  {
   "cell_type": "markdown",
   "id": "2289ed0f",
   "metadata": {},
   "source": [
    "# Advent of Code 2024\n",
    "\n",
    "The Chief Historian is always present for the big Christmas sleigh launch, but nobody has seen him in months! Last anyone heard, he was visiting locations that are historically significant to the North Pole; a group of Senior Historians has asked you to accompany them as they check the places they think he was most likely to visit.\n",
    "\n",
    "As each location is checked, they will mark it on their list with a star. They figure the Chief Historian must be in one of the first fifty places they'll look, so in order to save Christmas, you need to help them get fifty stars on their list before Santa takes off on December 25th.\n",
    "\n",
    "Collect stars by solving puzzles. Two puzzles will be made available on each day in the Advent calendar; the second puzzle is unlocked when you complete the first. Each puzzle grants one star. Good luck!\n",
    "\n",
    "## Day 1: Historian Hysteria - Part I"
   ]
  },
  {
   "cell_type": "markdown",
   "id": "14939bc6",
   "metadata": {},
   "source": [
    "You haven't even left yet and the group of Elvish Senior Historians has already hit a problem: their list of locations to check is currently empty. Eventually, someone decides that the best place to check first would be the Chief Historian's office.\n",
    "\n",
    "Upon pouring into the office, everyone confirms that the Chief Historian is indeed nowhere to be found. Instead, the Elves discover an assortment of notes and lists of historically significant locations! This seems to be the planning the Chief Historian was doing before he left. Perhaps these notes can be used to determine which locations to search?\n",
    "\n",
    "Throughout the Chief's office, the historically significant locations are listed not by name but by a unique number called the location ID. To make sure they don't miss anything, The Historians split into two groups, each searching the office and trying to create their own complete list of location IDs.\n",
    "\n",
    "There's just one problem: by holding the two lists up side by side (your puzzle input), it quickly becomes clear that the lists aren't very similar. Maybe you can help The Historians reconcile their lists?\n",
    "\n",
    "For example:\n",
    "\n",
    "| List 1 | List 2|\n",
    "| -------- | ------- |\n",
    "| 3 | 4 |\n",
    "| 4 | 3 |\n",
    "| 2 | 5 |\n",
    "| 1 | 3 |\n",
    "| 3 | 9 |\n",
    "| 3 | 3 |\n",
    "\n",
    "Maybe the lists are only off by a small amount! To find out, pair up the numbers and measure how far apart they are. Pair up the smallest number in the left list with the smallest number in the right list, then the second-smallest left number with the second-smallest right number, and so on.\n",
    "\n",
    "Within each pair, figure out how far apart the two numbers are; you'll need to add up all of those distances. For example, if you pair up a 3 from the left list with a 7 from the right list, the distance apart is 4; if you pair up a 9 with a 3, the distance apart is 6.\n",
    "\n",
    "In the example list above, the pairs and distances would be as follows:\n",
    "\n",
    "- The smallest number in the left list is 1, and the smallest number in the right list is 3. The distance between them is 2.\n",
    "- The second-smallest number in the left list is 2, and the second-smallest number in the right list is another 3. The distance between them is 1.\n",
    "- The third-smallest number in both lists is 3, so the distance between them is 0.\n",
    "- The next numbers to pair up are 3 and 4, a distance of 1.\n",
    "- The fifth-smallest numbers in each list are 3 and 5, a distance of 2.\n",
    "- Finally, the largest number in the left list is 4, while the largest number in the right list is 9; these are a distance 5 apart.\n",
    "\n",
    "To find the total distance between the left list and the right list, add up the distances between all of the pairs you found. In the example above, this is 2 + 1 + 0 + 1 + 2 + 5, a total distance of 11!\n",
    "\n",
    "Your actual left and right lists contain many location IDs. What is the total distance between your lists?"
   ]
  },
  {
   "cell_type": "markdown",
   "id": "02d1686a",
   "metadata": {},
   "source": [
    "### Reading Input"
   ]
  },
  {
   "cell_type": "code",
   "execution_count": 30,
   "id": "3f7b1252",
   "metadata": {},
   "outputs": [
    {
     "name": "stdout",
     "output_type": "stream",
     "text": [
      "61967\n",
      "56543\n"
     ]
    }
   ],
   "source": [
    "input_day_1_list_1 = []\n",
    "input_day_1_list_2 = []\n",
    "\n",
    "with open('input_day1.txt', 'r') as file:\n",
    "    for line in file:\n",
    "        line_split = line.split()\n",
    "        line_int_1 = int(line_split[0])\n",
    "        line_int_2 = int(line_split[1])\n",
    "        input_day_1_list_1.append(line_int_1)\n",
    "        input_day_1_list_2.append(line_int_2)\n",
    "\n",
    "print(input_day_1_list_1[0])\n",
    "print(input_day_1_list_2[0])"
   ]
  },
  {
   "cell_type": "markdown",
   "id": "94ae1176",
   "metadata": {},
   "source": [
    "### Solution"
   ]
  },
  {
   "cell_type": "code",
   "execution_count": 67,
   "id": "8083b79a",
   "metadata": {},
   "outputs": [
    {
     "name": "stdout",
     "output_type": "stream",
     "text": [
      "Wall time: 994 µs\n"
     ]
    },
    {
     "data": {
      "text/plain": [
       "2904518"
      ]
     },
     "execution_count": 67,
     "metadata": {},
     "output_type": "execute_result"
    }
   ],
   "source": [
    "%%time\n",
    "\n",
    "input_day_1_list_1.sort()\n",
    "input_day_1_list_2.sort()\n",
    "\n",
    "distances = []\n",
    "\n",
    "for index in range(len(input_day_1_list_1)):\n",
    "    distance = abs(input_day_1_list_1[index] - input_day_1_list_2[index])\n",
    "    distances.append(distance)\n",
    "\n",
    "sum(distances)"
   ]
  },
  {
   "cell_type": "code",
   "execution_count": 65,
   "id": "b299b9b1",
   "metadata": {},
   "outputs": [
    {
     "name": "stdout",
     "output_type": "stream",
     "text": [
      "2904518\n",
      "Wall time: 539 µs\n"
     ]
    }
   ],
   "source": [
    "%%time\n",
    "\n",
    "\n",
    "total_distance = sum(abs(a - b) for a, b in zip(input_day_1_list_1, input_day_1_list_2))\n",
    "\n",
    "print(total_distance)"
   ]
  },
  {
   "cell_type": "markdown",
   "id": "01d41bd1",
   "metadata": {},
   "source": [
    "## Day 1: Historian Hysteria - Part II\n",
    "\n",
    "Your analysis only confirmed what everyone feared: the two lists of location IDs are indeed very different.\n",
    "\n",
    "Or are they?\n",
    "\n",
    "The Historians can't agree on which group made the mistakes or how to read most of the Chief's handwriting, but in the commotion you notice an interesting detail: a lot of location IDs appear in both lists! Maybe the other numbers aren't location IDs at all but rather misinterpreted handwriting.\n",
    "\n",
    "This time, you'll need to figure out exactly how often each number from the left list appears in the right list. Calculate a total similarity score by adding up each number in the left list after multiplying it by the number of times that number appears in the right list.\n",
    "\n",
    "Here are the same example lists again:\n",
    "\n",
    "| List 1 | List 2|\n",
    "| -------- | ------- |\n",
    "| 3 | 4 |\n",
    "| 4 | 3 |\n",
    "| 2 | 5 |\n",
    "| 1 | 3 |\n",
    "| 3 | 9 |\n",
    "| 3 | 3 |\n",
    "\n",
    "For these example lists, here is the process of finding the similarity score:\n",
    "\n",
    "- The first number in the left list is 3. It appears in the right list three times, so the similarity score increases by 3 * 3 = 9.\n",
    "- The second number in the left list is 4. It appears in the right list once, so the similarity score increases by 4 * 1 = 4.\n",
    "- The third number in the left list is 2. It does not appear in the right list, so the similarity score does not increase (2 * 0 = 0).\n",
    "- The fourth number, 1, also does not appear in the right list.\n",
    "- The fifth number, 3, appears in the right list three times; the similarity score increases by 9.\n",
    "- The last number, 3, appears in the right list three times; the similarity score again increases by 9.\n",
    "\n",
    "So, for these example lists, the similarity score at the end of this process is 31 (9 + 4 + 0 + 0 + 9 + 9).\n",
    "\n",
    "Once again consider your left and right lists. What is their similarity score?"
   ]
  },
  {
   "cell_type": "markdown",
   "id": "3bba39d4",
   "metadata": {},
   "source": [
    "### Solution"
   ]
  },
  {
   "cell_type": "code",
   "execution_count": 68,
   "id": "4e9425ca",
   "metadata": {},
   "outputs": [
    {
     "name": "stdout",
     "output_type": "stream",
     "text": [
      "Wall time: 71.3 ms\n"
     ]
    },
    {
     "data": {
      "text/plain": [
       "18650129"
      ]
     },
     "execution_count": 68,
     "metadata": {},
     "output_type": "execute_result"
    }
   ],
   "source": [
    "%%time\n",
    "\n",
    "similarity = 0\n",
    "\n",
    "for index_1 in input_day_1_list_1:\n",
    "    \n",
    "    similarity_index = 0\n",
    "    \n",
    "    for index_2 in input_day_1_list_2:\n",
    "        \n",
    "        if index_1 == index_2:\n",
    "            similarity_index += 1\n",
    "        \n",
    "    similarity += index_1*similarity_index\n",
    "                \n",
    "similarity"
   ]
  },
  {
   "cell_type": "markdown",
   "id": "b9d0ddf3",
   "metadata": {},
   "source": [
    "### Improved version - using collections"
   ]
  },
  {
   "cell_type": "code",
   "execution_count": 70,
   "id": "e1292993",
   "metadata": {},
   "outputs": [
    {
     "name": "stdout",
     "output_type": "stream",
     "text": [
      "Wall time: 997 µs\n"
     ]
    },
    {
     "data": {
      "text/plain": [
       "18650129"
      ]
     },
     "execution_count": 70,
     "metadata": {},
     "output_type": "execute_result"
    }
   ],
   "source": [
    "%%time\n",
    "\n",
    "from collections import Counter\n",
    "\n",
    "similarity_index = Counter(input_day_1_list_2)\n",
    "\n",
    "similarity = 0\n",
    "\n",
    "for index in input_day_1_list_1:\n",
    "    \n",
    "    similarity += index*similarity_index[index]\n",
    "\n",
    "similarity"
   ]
  }
 ],
 "metadata": {
  "kernelspec": {
   "display_name": "Python 3 (ipykernel)",
   "language": "python",
   "name": "python3"
  },
  "language_info": {
   "codemirror_mode": {
    "name": "ipython",
    "version": 3
   },
   "file_extension": ".py",
   "mimetype": "text/x-python",
   "name": "python",
   "nbconvert_exporter": "python",
   "pygments_lexer": "ipython3",
   "version": "3.9.13"
  }
 },
 "nbformat": 4,
 "nbformat_minor": 5
}
