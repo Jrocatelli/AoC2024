{
 "cells": [
  {
   "cell_type": "markdown",
   "id": "65d9a51c",
   "metadata": {},
   "source": [
    "# Day 2: Red-Nosed Reports\n",
    "\n",
    "## Part I"
   ]
  },
  {
   "cell_type": "markdown",
   "id": "f746530a",
   "metadata": {},
   "source": [
    "Fortunately, the first location The Historians want to search isn't a long walk from the Chief Historian's office.\n",
    "\n",
    "While the Red-Nosed Reindeer nuclear fusion/fission plant appears to contain no sign of the Chief Historian, the engineers there run up to you as soon as they see you. Apparently, they still talk about the time Rudolph was saved through molecular synthesis from a single electron.\n",
    "\n",
    "They're quick to add that - since you're already here - they'd really appreciate your help analyzing some unusual data from the Red-Nosed reactor. You turn to check if The Historians are waiting for you, but they seem to have already divided into groups that are currently searching every corner of the facility. You offer to help with the unusual data.\n",
    "\n",
    "The unusual data (your puzzle input) consists of many reports, one report per line. Each report is a list of numbers called levels that are separated by spaces. For example:\n",
    "\n",
    "7 6 4 2 1\\\n",
    "1 2 7 8 9\\\n",
    "9 7 6 2 1\\\n",
    "1 3 2 4 5\\\n",
    "8 6 4 4 1\\\n",
    "1 3 6 7 9\n",
    "\n",
    "This example data contains six reports each containing five levels.\n",
    "\n",
    "The engineers are trying to figure out which reports are safe. The Red-Nosed reactor safety systems can only tolerate levels that are either gradually increasing or gradually decreasing. So, a report only counts as safe if both of the following are true:\n",
    "\n",
    "- The levels are either all increasing or all decreasing.\n",
    "- Any two adjacent levels differ by at least one and at most three.\n",
    "\n",
    "In the example above, the reports can be found safe or unsafe by checking those rules:\n",
    "\n",
    "- 7 6 4 2 1: Safe because the levels are all decreasing by 1 or 2.\n",
    "- 1 2 7 8 9: Unsafe because 2 7 is an increase of 5.\n",
    "- 9 7 6 2 1: Unsafe because 6 2 is a decrease of 4.\n",
    "- 1 3 2 4 5: Unsafe because 1 3 is increasing but 3 2 is decreasing.\n",
    "- 8 6 4 4 1: Unsafe because 4 4 is neither an increase or a decrease.\n",
    "- 1 3 6 7 9: Safe because the levels are all increasing by 1, 2, or 3.\n",
    "\n",
    "So, in this example, 2 reports are safe.\n",
    "\n",
    "Analyze the unusual data from the engineers. How many reports are safe?"
   ]
  },
  {
   "cell_type": "code",
   "execution_count": 9,
   "id": "5c034391",
   "metadata": {},
   "outputs": [
    {
     "name": "stdout",
     "output_type": "stream",
     "text": [
      "Wall time: 2.05 ms\n"
     ]
    },
    {
     "data": {
      "text/plain": [
       "[22, 25, 27, 28, 30, 31, 32, 29]"
      ]
     },
     "execution_count": 9,
     "metadata": {},
     "output_type": "execute_result"
    }
   ],
   "source": [
    "%%time\n",
    "\n",
    "reports = []\n",
    "\n",
    "with open('input_day2.txt', 'r') as file:\n",
    "    for line in file:\n",
    "        line_split = line.split()\n",
    "        \n",
    "        # Convert elements to integers\n",
    "        line_split = [int(element) for element in line_split]\n",
    "        \n",
    "        reports.append(line_split)\n",
    "        \n",
    "reports[0]"
   ]
  },
  {
   "cell_type": "code",
   "execution_count": 74,
   "id": "a2e6a506",
   "metadata": {},
   "outputs": [],
   "source": [
    "def SafeReportsCounter(report_data):\n",
    "\n",
    "    report_len = len(report_data)\n",
    "    signs = []\n",
    "        \n",
    "    for index in range(report_len - 1):\n",
    "        delta = report_data[index] - report_data[index + 1]\n",
    "        \n",
    "        if delta == 0:\n",
    "            return 'Unsafe'\n",
    "        else:\n",
    "            signs.append(delta/abs(delta))\n",
    "        \n",
    "        if abs(delta) < 1 or abs(delta) > 3:\n",
    "            return 'Unsafe' \n",
    "        \n",
    "    if abs(sum(signs)) == len(signs):\n",
    "        return 'Safe' \n",
    "    else:\n",
    "        return 'Unsafe'"
   ]
  },
  {
   "cell_type": "code",
   "execution_count": 75,
   "id": "bf128551",
   "metadata": {},
   "outputs": [
    {
     "data": {
      "text/plain": [
       "639"
      ]
     },
     "execution_count": 75,
     "metadata": {},
     "output_type": "execute_result"
    }
   ],
   "source": [
    "safe_counter = 0\n",
    "\n",
    "for list in reports:\n",
    "    \n",
    "    if SafeReportsCounter(list) == 'Safe':\n",
    "        \n",
    "        safe_counter += 1\n",
    "\n",
    "safe_counter"
   ]
  },
  {
   "cell_type": "markdown",
   "id": "024ed657",
   "metadata": {},
   "source": [
    "## Part II"
   ]
  },
  {
   "cell_type": "markdown",
   "id": "071e2f22",
   "metadata": {},
   "source": [
    "The engineers are surprised by the low number of safe reports until they realize they forgot to tell you about the Problem Dampener.\n",
    "\n",
    "The Problem Dampener is a reactor-mounted module that lets the reactor safety systems tolerate a single bad level in what would otherwise be a safe report. It's like the bad level never happened!\n",
    "\n",
    "Now, the same rules apply as before, except if removing a single level from an unsafe report would make it safe, the report instead counts as safe.\n",
    "\n",
    "More of the above example's reports are now safe:\n",
    "\n",
    "- 7 6 4 2 1: Safe without removing any level.\n",
    "- 1 2 7 8 9: Unsafe regardless of which level is removed.\n",
    "- 9 7 6 2 1: Unsafe regardless of which level is removed.\n",
    "- 1 3 2 4 5: Safe by removing the second level, 3.\n",
    "- 8 6 4 4 1: Safe by removing the third level, 4.\n",
    "- 1 3 6 7 9: Safe without removing any level.\n",
    "\n",
    "Thanks to the Problem Dampener, 4 reports are actually safe!\n",
    "\n",
    "Update your analysis by handling situations where the Problem Dampener can remove a single level from unsafe reports. How many reports are now safe?"
   ]
  },
  {
   "cell_type": "code",
   "execution_count": 83,
   "id": "cd5c0303",
   "metadata": {},
   "outputs": [
    {
     "data": {
      "text/plain": [
       "[[2, 3, 4], [1, 3, 4], [1, 2, 4], [1, 2, 3]]"
      ]
     },
     "execution_count": 83,
     "metadata": {},
     "output_type": "execute_result"
    }
   ],
   "source": [
    "def remove_element(report_list):\n",
    "    \n",
    "    aux_lists = []\n",
    "    \n",
    "    for i in range(len(report_list)):\n",
    "        aux_lists.append(report_list[:i] + report_list[i+1:])\n",
    "    \n",
    "    return aux_lists\n",
    "\n",
    "remove_element([1, 2, 3, 4])"
   ]
  },
  {
   "cell_type": "code",
   "execution_count": 84,
   "id": "c403ea4e",
   "metadata": {},
   "outputs": [
    {
     "data": {
      "text/plain": [
       "674"
      ]
     },
     "execution_count": 84,
     "metadata": {},
     "output_type": "execute_result"
    }
   ],
   "source": [
    "safe_counter_part2 = 0\n",
    "\n",
    "for element in reports:\n",
    "    \n",
    "    all_lists = remove_element(element)\n",
    "    \n",
    "    for i_list in all_lists:\n",
    "        \n",
    "        if SafeReportsCounter(i_list) == 'Safe':\n",
    "            \n",
    "            safe_counter_part2 += 1\n",
    "            \n",
    "            break\n",
    "            \n",
    "safe_counter_part2"
   ]
  }
 ],
 "metadata": {
  "kernelspec": {
   "display_name": "Python 3 (ipykernel)",
   "language": "python",
   "name": "python3"
  },
  "language_info": {
   "codemirror_mode": {
    "name": "ipython",
    "version": 3
   },
   "file_extension": ".py",
   "mimetype": "text/x-python",
   "name": "python",
   "nbconvert_exporter": "python",
   "pygments_lexer": "ipython3",
   "version": "3.9.13"
  }
 },
 "nbformat": 4,
 "nbformat_minor": 5
}
